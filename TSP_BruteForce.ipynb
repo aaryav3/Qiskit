{
 "cells": [
  {
   "cell_type": "code",
   "execution_count": 19,
   "id": "861083c5",
   "metadata": {},
   "outputs": [],
   "source": [
    "import matplotlib.pyplot as plt\n",
    "import matplotlib.axes as axes\n",
    "import numpy as np\n",
    "import networkx as nx\n",
    "\n",
    "from qiskit import Aer\n",
    "from qiskit.tools.visualization import plot_histogram\n",
    "from qiskit.circuit.library import TwoLocal\n",
    "from qiskit_optimization.applications import Maxcut, Tsp\n",
    "from qiskit.algorithms import VQE, NumPyMinimumEigensolver\n",
    "from qiskit.algorithms.optimizers import SPSA\n",
    "from qiskit.utils import algorithm_globals, QuantumInstance\n",
    "from qiskit_optimization.algorithms import MinimumEigenOptimizer\n",
    "from qiskit_optimization.problems import QuadraticProgram"
   ]
  },
  {
   "cell_type": "code",
   "execution_count": 20,
   "id": "9851f8f1",
   "metadata": {},
   "outputs": [
    {
     "name": "stdout",
     "output_type": "stream",
     "text": [
      "distance\n",
      " [[ 0.  6. 62. 31. 69. 62.]\n",
      " [ 6.  0. 57. 32. 65. 60.]\n",
      " [62. 57.  0. 78. 50. 72.]\n",
      " [31. 32. 78.  0. 62. 42.]\n",
      " [69. 65. 50. 62.  0. 31.]\n",
      " [62. 60. 72. 42. 31.  0.]]\n"
     ]
    }
   ],
   "source": [
    "# Generating a graph of 3 nodes\n",
    "n = 6\n",
    "num_qubits = n**2\n",
    "tsp = Tsp.create_random_instance(n, seed=169)\n",
    "adj_matrix = nx.to_numpy_matrix(tsp.graph)\n",
    "print(\"distance\\n\", adj_matrix)"
   ]
  },
  {
   "cell_type": "code",
   "execution_count": 23,
   "id": "c8591d5e",
   "metadata": {},
   "outputs": [
    {
     "name": "stdout",
     "output_type": "stream",
     "text": [
      "order = (0, 1, 2, 3, 4, 5) Distance = 296.0\n",
      "order = (0, 1, 2, 3, 5, 4) Distance = 283.0\n",
      "order = (0, 1, 2, 4, 3, 5) Distance = 279.0\n",
      "order = (0, 1, 2, 4, 5, 3) Distance = 217.0\n",
      "Best order = (0, 1, 2, 4, 5, 3) with total distance = 217.0\n",
      "Time taken to run: 0.007005929946899414 seconds\n"
     ]
    }
   ],
   "source": [
    "#brute-force approach\n",
    "from itertools import permutations\n",
    "from time import time\n",
    "\n",
    "\n",
    "def brute_force_tsp(w, N):\n",
    "    a = list(permutations(range(1, N)))\n",
    "    last_best_distance = 1e10\n",
    "    for i in a:\n",
    "        distance = 0\n",
    "        pre_j = 0\n",
    "        for j in i:\n",
    "            distance = distance + w[j, pre_j]\n",
    "            pre_j = j\n",
    "        distance = distance + w[pre_j, 0]\n",
    "        order = (0,) + i\n",
    "        if distance < last_best_distance:\n",
    "            best_order = order\n",
    "            last_best_distance = distance\n",
    "            print(\"order = \" + str(order) + \" Distance = \" + str(distance))\n",
    "    return last_best_distance, best_order\n",
    "\n",
    "start = time()\n",
    "best_distance, best_order = brute_force_tsp(adj_matrix, n)\n",
    "print(\"Best order = \" + str(best_order) + \" with total distance = \" + str(best_distance))\n",
    "print(f'Time taken to run: {time() - start} seconds')"
   ]
  },
  {
   "cell_type": "code",
   "execution_count": null,
   "id": "6b2071b1",
   "metadata": {},
   "outputs": [],
   "source": []
  }
 ],
 "metadata": {
  "kernelspec": {
   "display_name": "Python 3 (ipykernel)",
   "language": "python",
   "name": "python3"
  },
  "language_info": {
   "codemirror_mode": {
    "name": "ipython",
    "version": 3
   },
   "file_extension": ".py",
   "mimetype": "text/x-python",
   "name": "python",
   "nbconvert_exporter": "python",
   "pygments_lexer": "ipython3",
   "version": "3.9.7"
  }
 },
 "nbformat": 4,
 "nbformat_minor": 5
}
