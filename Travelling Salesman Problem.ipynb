{
 "cells": [
  {
   "cell_type": "code",
   "execution_count": 1,
   "id": "affff25e",
   "metadata": {},
   "outputs": [],
   "source": [
    "from qiskit import *\n",
    "from qiskit.visualization import plot_histogram as hst, array_to_latex\n",
    "import numpy as np\n",
    "from numpy import pi\n",
    "from qiskit.circuit.library import QFT\n",
    "from qiskit.algorithms import VQE, NumPyEigensolver\n",
    "from qiskit.circuit import *\n",
    "from qiskit.quantum_info.operators import Operator, Pauli\n",
    "from qiskit.quantum_info import process_fidelity\n",
    "from qiskit.circuit.library import EfficientSU2\n",
    "from qiskit.algorithms.optimizers import SPSA\n",
    "from qiskit.providers.basicaer import QasmSimulatorPy\n"
   ]
  },
  {
   "cell_type": "code",
   "execution_count": 2,
   "id": "c43d26fe",
   "metadata": {},
   "outputs": [
    {
     "data": {
      "image/png": "[encoded data removed]",
      "text/plain": [
       "<Figure size 124.777x204.68 with 1 Axes>"
      ]
     },
     "execution_count": 2,
     "metadata": {},
     "output_type": "execute_result"
    }
   ],
   "source": [
    "qt = QuantumRegister(3, 'qt')\n",
    "qct = QuantumCircuit(qt)\n",
    "%matplotlib inline\n",
    "qct.draw(output = 'mpl')"
   ]
  },
  {
   "cell_type": "code",
   "execution_count": 3,
   "id": "c1a2a200",
   "metadata": {},
   "outputs": [
    {
     "data": {
      "image/png": "[encoded data removed]",
      "text/plain": [
       "<Figure size 877.277x204.68 with 1 Axes>"
      ]
     },
     "execution_count": 3,
     "metadata": {},
     "output_type": "execute_result"
    }
   ],
   "source": [
    "at = 0\n",
    "bt = pi/2\n",
    "ct = pi/8\n",
    "dt = pi/4\n",
    "\n",
    "qct.cp(ct - at, qt[2], qt[1])\n",
    "qct.p(at, qt[2])\n",
    "qct.cp(bt - at, qt[2], qt[0])\n",
    "\n",
    "qct.cp((dt - ct + at - bt)/2, qt[1], qt[0])\n",
    "qct.cx(qt[2], qt[1])\n",
    "qct.cp(-(dt - ct + at - bt)/2, qt[1], qt[0])\n",
    "qct.cx(qt[2], qt[1])\n",
    "qct.cp((dt - ct + at - bt)/2, qt[2], qt[0])\n",
    "\n",
    "qct.draw(output = 'mpl')\n"
   ]
  },
  {
   "cell_type": "code",
   "execution_count": 4,
   "id": "af99d51b",
   "metadata": {},
   "outputs": [
    {
     "data": {
      "text/latex": [
       "$$\n",
       "\\text{Circuit = }\n",
       "\n",
       "\\begin{bmatrix}\n",
       "1 & 0 & 0 & 0 & 0 & 0 & 0 & 0  \\\\\n",
       " 0 & 1 & 0 & 0 & 0 & 0 & 0 & 0  \\\\\n",
       " 0 & 0 & 1 & 0 & 0 & 0 & 0 & 0  \\\\\n",
       " 0 & 0 & 0 & 1 & 0 & 0 & 0 & 0  \\\\\n",
       " 0 & 0 & 0 & 0 & 1 & 0 & 0 & 0  \\\\\n",
       " 0 & 0 & 0 & 0 & 0 & i & 0 & 0  \\\\\n",
       " 0 & 0 & 0 & 0 & 0 & 0 & 0.92388 + 0.38268i & 0  \\\\\n",
       " 0 & 0 & 0 & 0 & 0 & 0 & 0 & \\tfrac{1}{\\sqrt{2}}(1 + i)  \\\\\n",
       " \\end{bmatrix}\n",
       "$$"
      ],
      "text/plain": [
       "<IPython.core.display.Latex object>"
      ]
     },
     "execution_count": 4,
     "metadata": {},
     "output_type": "execute_result"
    }
   ],
   "source": [
    "##unitary matrix\n",
    "\n",
    "backend = Aer.get_backend('unitary_simulator')\n",
    "job_unitary_t = execute(qct, backend, shots = 9000)\n",
    "count_unitary_t = job_unitary_t.result().get_unitary()\n",
    "array_to_latex(count_unitary_t, prefix=\"\\\\text{Circuit = }\\n\")"
   ]
  },
  {
   "cell_type": "code",
   "execution_count": 5,
   "id": "e14df3ce",
   "metadata": {},
   "outputs": [],
   "source": [
    "#function to create C-Uj\n",
    "\n",
    "def controlled_unitary(qc, qubits: list, phases: list):\n",
    "    qc.cp(phases[2]-phases[0], qubits[0], qubits[1]) # controlled-U1(c-a)\n",
    "    qc.p(phases[0], qubits[0]) # U1(a)\n",
    "    qc.cp(phases[1]-phases[0], qubits[0], qubits[2]) # controlled-U1(b-a)\n",
    "    \n",
    "    #CC-U1(d-c+a-b)\n",
    "    qc.cp((phases[3]-phases[2]+phases[0]-phases[1])/2, qubits[1], qubits[2])\n",
    "    qc.cx(qubits[0], qubits[1])\n",
    "    qc.cp(-(phases[3]-phases[2]+phases[0]-phases[1])/2, qubits[1], qubits[2])\n",
    "    qc.cx(qubits[0], qubits[1])\n",
    "    qc.cp((phases[3]-phases[2]+phases[0]-phases[1])/2, qubits[0], qubits[2])"
   ]
  },
  {
   "cell_type": "code",
   "execution_count": 6,
   "id": "998f5d03",
   "metadata": {},
   "outputs": [],
   "source": [
    "#for U = U1*U2*U3*U4; *--> Tensor product\n",
    "\n",
    "def U(times, qc, unit, eigen, phases: list): # a,b,c = phases for U1; d,e,f = phases for U2; g,h,i = phases for U3; j,k,l = phases for U4; m_list=[m, n, o, p, q, r, s, t, u, a, b, c, d, e, f, g, h, i, j, k, l]\n",
    "    controlled_unitary(qc, [unit[0]]+eigen[0:2], [0]+phases[0:3])\n",
    "    controlled_unitary(qc, [unit[0]]+eigen[2:4], [phases[3]]+[0]+phases[4:6])\n",
    "    controlled_unitary(qc, [unit[0]]+eigen[4:6], phases[6:8]+[0]+[phases[8]])\n",
    "    controlled_unitary(qc, [unit[0]]+eigen[6:8], phases[9:12]+[0])"
   ]
  },
  {
   "cell_type": "code",
   "execution_count": 7,
   "id": "eefa3af7",
   "metadata": {},
   "outputs": [],
   "source": [
    "#now finally for CU^{2,4,8,16,32} to account for the sum of all possible paths\n",
    "\n",
    "def final_U(times, eigen, phases: list):\n",
    "    unit = QuantumRegister(1, 'unit')\n",
    "    qc = QuantumCircuit(unit, eigen)\n",
    "    for _ in range(2**times):\n",
    "        U(times, qc, unit, eigen, phases)\n",
    "    return qc.to_gate(label='U'+'_'+(str(2**times)))"
   ]
  },
  {
   "cell_type": "code",
   "execution_count": 8,
   "id": "5adf7e59",
   "metadata": {},
   "outputs": [],
   "source": [
    "##building the eigenstates\n",
    "\n",
    "#storing the eigenvalues\n",
    "eigen_values = [\"11000110\", \"10001101\", \"11001001\"]\n",
    "\n",
    "# Function to place appropriate corresponding gate according to eigenstates\n",
    "def eigenstates(qc, e, index): #e is a defined eigenvalue in code, whose state is being changed based on whether at the corresponding index in our defined eigenstates there is a 1.\n",
    "    for i in range(0, len(e)):\n",
    "        if eigen_values[index][i] == '1':\n",
    "            qc.x(e[i])\n",
    "        if eigen_values[index][i] == '0':\n",
    "            pass\n",
    "    qc.barrier()\n",
    "    return qc"
   ]
  },
  {
   "cell_type": "code",
   "execution_count": 12,
   "id": "18049bb9",
   "metadata": {
    "scrolled": false
   },
   "outputs": [
    {
     "name": "stdout",
     "output_type": "stream",
     "text": [
      "[[100100.      0.      0.]\n",
      " [     0. 100000.      0.]\n",
      " [     0.      0. 100000.]]\n"
     ]
    }
   ],
   "source": [
    "##now finally moving on to our Quantum Circu#setting up the first distinct eigenstate, which is 11000110\n",
    "\n",
    "result = np.zeros((len(eigen_values),len(eigen_values)))\n",
    "\n",
    "for i in range(0,len(eigen_values)):\n",
    "    \n",
    "# Initialization\n",
    "    \n",
    "    unit = QuantumRegister(6, 'unit')\n",
    "    eigen = QuantumRegister(8, 'eigen')\n",
    "    unit_classical = ClassicalRegister(6, 'unit_classical')\n",
    "    qc = QuantumCircuit(unit, eigen, unit_classical)\n",
    "    \n",
    "    \n",
    "    eigenstates(qc, eigen, i)\n",
    "    \n",
    "# Hadamard on the 'unit' qubits\n",
    "    qc.h(unit[:])\n",
    "    qc.barrier()\n",
    "\n",
    "# C-U\n",
    "    phases = [pi / 2, pi / 8, pi / 4, pi / 2, pi / 4, pi / 4, pi / 8, pi / 4, pi / 8, pi / 4, pi / 4, pi / 8] # a, b, c, d, e, f, g, h, i, j, k, l\n",
    "    for j in range(0, 6):\n",
    "        qc.append(final_U(j, eigen, phases), [unit[5-j]] + eigen[:])\n",
    "\n",
    "# Inverse QFT \n",
    "    qc.barrier()\n",
    "    qft = QFT(num_qubits=len(unit), inverse=True, insert_barriers=True, do_swaps=False, name='Inverse QFT')\n",
    "    qc.append(qft, qc.qubits[:len(unit)])\n",
    "    qc.barrier()\n",
    "\n",
    "#measurement \n",
    "    qc.measure(unit, unit_classical)\n",
    "    \n",
    "#execution\n",
    "    backend = Aer.get_backend('qasm_simulator')\n",
    "    count = execute(qc, backend, shots = 1024).result().get_counts()\n",
    "    result[i][i] = str(count.most_frequent())\n",
    "\n",
    "\n",
    "# result = result.astype('int64')\n",
    "# qc.draw(output = 'mpl')\n",
    "print(result)\n",
    "    "
   ]
  },
  {
   "cell_type": "code",
   "execution_count": 371,
   "id": "493ccd54",
   "metadata": {},
   "outputs": [
    {
     "ename": "CircuitError",
     "evalue": "'Exactly one of the size or bits arguments can be provided. Provided size=None bits=None.'",
     "output_type": "error",
     "traceback": [
      "\u001b[1;31m---------------------------------------------------------------------------\u001b[0m",
      "\u001b[1;31mCircuitError\u001b[0m                              Traceback (most recent call last)",
      "\u001b[1;32m~\\AppData\\Local\\Temp/ipykernel_24308/2512205933.py\u001b[0m in \u001b[0;36m<module>\u001b[1;34m\u001b[0m\n\u001b[0;32m     13\u001b[0m \u001b[1;31m#result = vqe.get_optimal_cost(initial_point=None, ansatz=None, cost_fn=op, optimizer=None, gradient_fn=None)\u001b[0m\u001b[1;33m\u001b[0m\u001b[1;33m\u001b[0m\u001b[0m\n\u001b[0;32m     14\u001b[0m \u001b[1;31m#vqe_result = np.real(vqe.run(QuantumInstance(backend)))\u001b[0m\u001b[1;33m\u001b[0m\u001b[1;33m\u001b[0m\u001b[0m\n\u001b[1;32m---> 15\u001b[1;33m \u001b[0mmin_distance\u001b[0m \u001b[1;33m=\u001b[0m \u001b[0mvqe\u001b[0m\u001b[1;33m.\u001b[0m\u001b[0mcompute_minimum_eigenvalue\u001b[0m\u001b[1;33m(\u001b[0m\u001b[0moperator\u001b[0m \u001b[1;33m=\u001b[0m \u001b[0mop\u001b[0m\u001b[1;33m,\u001b[0m \u001b[0maux_operators\u001b[0m \u001b[1;33m=\u001b[0m \u001b[1;32mNone\u001b[0m\u001b[1;33m)\u001b[0m\u001b[1;33m\u001b[0m\u001b[1;33m\u001b[0m\u001b[0m\n\u001b[0m\u001b[0;32m     16\u001b[0m \u001b[0mprint\u001b[0m\u001b[1;33m(\u001b[0m\u001b[0m_\u001b[0m\u001b[1;33m)\u001b[0m\u001b[1;33m\u001b[0m\u001b[1;33m\u001b[0m\u001b[0m\n",
      "\u001b[1;32m~\\anaconda3\\lib\\site-packages\\qiskit\\algorithms\\minimum_eigen_solvers\\vqe.py\u001b[0m in \u001b[0;36mcompute_minimum_eigenvalue\u001b[1;34m(self, operator, aux_operators)\u001b[0m\n\u001b[0;32m    494\u001b[0m         \u001b[1;31m# this sets the size of the ansatz, so it must be called before the initial point\u001b[0m\u001b[1;33m\u001b[0m\u001b[1;33m\u001b[0m\u001b[0m\n\u001b[0;32m    495\u001b[0m         \u001b[1;31m# validation\u001b[0m\u001b[1;33m\u001b[0m\u001b[1;33m\u001b[0m\u001b[0m\n\u001b[1;32m--> 496\u001b[1;33m         \u001b[0mself\u001b[0m\u001b[1;33m.\u001b[0m\u001b[0m_check_operator_ansatz\u001b[0m\u001b[1;33m(\u001b[0m\u001b[0moperator\u001b[0m\u001b[1;33m)\u001b[0m\u001b[1;33m\u001b[0m\u001b[1;33m\u001b[0m\u001b[0m\n\u001b[0m\u001b[0;32m    497\u001b[0m \u001b[1;33m\u001b[0m\u001b[0m\n\u001b[0;32m    498\u001b[0m         \u001b[1;31m# set an expectation for this algorithm run (will be reset to None at the end)\u001b[0m\u001b[1;33m\u001b[0m\u001b[1;33m\u001b[0m\u001b[0m\n",
      "\u001b[1;32m~\\anaconda3\\lib\\site-packages\\qiskit\\algorithms\\minimum_eigen_solvers\\vqe.py\u001b[0m in \u001b[0;36m_check_operator_ansatz\u001b[1;34m(self, operator)\u001b[0m\n\u001b[0;32m    327\u001b[0m                 \u001b[1;31m# try to set the number of qubits on the ansatz, if possible\u001b[0m\u001b[1;33m\u001b[0m\u001b[1;33m\u001b[0m\u001b[0m\n\u001b[0;32m    328\u001b[0m                 \u001b[1;32mtry\u001b[0m\u001b[1;33m:\u001b[0m\u001b[1;33m\u001b[0m\u001b[1;33m\u001b[0m\u001b[0m\n\u001b[1;32m--> 329\u001b[1;33m                     \u001b[0mself\u001b[0m\u001b[1;33m.\u001b[0m\u001b[0mansatz\u001b[0m\u001b[1;33m.\u001b[0m\u001b[0mnum_qubits\u001b[0m \u001b[1;33m=\u001b[0m \u001b[0moperator\u001b[0m\u001b[1;33m.\u001b[0m\u001b[0mnum_qubits\u001b[0m\u001b[1;33m\u001b[0m\u001b[1;33m\u001b[0m\u001b[0m\n\u001b[0m\u001b[0;32m    330\u001b[0m                 \u001b[1;32mexcept\u001b[0m \u001b[0mAttributeError\u001b[0m \u001b[1;32mas\u001b[0m \u001b[0mex\u001b[0m\u001b[1;33m:\u001b[0m\u001b[1;33m\u001b[0m\u001b[1;33m\u001b[0m\u001b[0m\n\u001b[0;32m    331\u001b[0m                     raise AlgorithmError(\n",
      "\u001b[1;32m~\\anaconda3\\lib\\site-packages\\qiskit\\circuit\\library\\n_local\\n_local.py\u001b[0m in \u001b[0;36mnum_qubits\u001b[1;34m(self, num_qubits)\u001b[0m\n\u001b[0;32m    176\u001b[0m             \u001b[0mself\u001b[0m\u001b[1;33m.\u001b[0m\u001b[0m_invalidate\u001b[0m\u001b[1;33m(\u001b[0m\u001b[1;33m)\u001b[0m\u001b[1;33m\u001b[0m\u001b[1;33m\u001b[0m\u001b[0m\n\u001b[0;32m    177\u001b[0m             \u001b[0mself\u001b[0m\u001b[1;33m.\u001b[0m\u001b[0m_num_qubits\u001b[0m \u001b[1;33m=\u001b[0m \u001b[0mnum_qubits\u001b[0m\u001b[1;33m\u001b[0m\u001b[1;33m\u001b[0m\u001b[0m\n\u001b[1;32m--> 178\u001b[1;33m             \u001b[0mself\u001b[0m\u001b[1;33m.\u001b[0m\u001b[0mqregs\u001b[0m \u001b[1;33m=\u001b[0m \u001b[1;33m[\u001b[0m\u001b[0mQuantumRegister\u001b[0m\u001b[1;33m(\u001b[0m\u001b[0mnum_qubits\u001b[0m\u001b[1;33m,\u001b[0m \u001b[0mname\u001b[0m\u001b[1;33m=\u001b[0m\u001b[1;34m\"q\"\u001b[0m\u001b[1;33m)\u001b[0m\u001b[1;33m]\u001b[0m\u001b[1;33m\u001b[0m\u001b[1;33m\u001b[0m\u001b[0m\n\u001b[0m\u001b[0;32m    179\u001b[0m \u001b[1;33m\u001b[0m\u001b[0m\n\u001b[0;32m    180\u001b[0m     \u001b[1;32mdef\u001b[0m \u001b[0m_convert_to_block\u001b[0m\u001b[1;33m(\u001b[0m\u001b[0mself\u001b[0m\u001b[1;33m,\u001b[0m \u001b[0mlayer\u001b[0m\u001b[1;33m:\u001b[0m \u001b[0mAny\u001b[0m\u001b[1;33m)\u001b[0m \u001b[1;33m->\u001b[0m \u001b[0mQuantumCircuit\u001b[0m\u001b[1;33m:\u001b[0m\u001b[1;33m\u001b[0m\u001b[1;33m\u001b[0m\u001b[0m\n",
      "\u001b[1;32m~\\anaconda3\\lib\\site-packages\\qiskit\\circuit\\register.py\u001b[0m in \u001b[0;36m__init__\u001b[1;34m(self, size, name, bits)\u001b[0m\n\u001b[0;32m     63\u001b[0m \u001b[1;33m\u001b[0m\u001b[0m\n\u001b[0;32m     64\u001b[0m         \u001b[1;32mif\u001b[0m \u001b[1;33m(\u001b[0m\u001b[0msize\u001b[0m\u001b[1;33m,\u001b[0m \u001b[0mbits\u001b[0m\u001b[1;33m)\u001b[0m \u001b[1;33m==\u001b[0m \u001b[1;33m(\u001b[0m\u001b[1;32mNone\u001b[0m\u001b[1;33m,\u001b[0m \u001b[1;32mNone\u001b[0m\u001b[1;33m)\u001b[0m \u001b[1;32mor\u001b[0m \u001b[1;33m(\u001b[0m\u001b[0msize\u001b[0m \u001b[1;32mis\u001b[0m \u001b[1;32mnot\u001b[0m \u001b[1;32mNone\u001b[0m \u001b[1;32mand\u001b[0m \u001b[0mbits\u001b[0m \u001b[1;32mis\u001b[0m \u001b[1;32mnot\u001b[0m \u001b[1;32mNone\u001b[0m\u001b[1;33m)\u001b[0m\u001b[1;33m:\u001b[0m\u001b[1;33m\u001b[0m\u001b[1;33m\u001b[0m\u001b[0m\n\u001b[1;32m---> 65\u001b[1;33m             raise CircuitError(\n\u001b[0m\u001b[0;32m     66\u001b[0m                 \u001b[1;34m\"Exactly one of the size or bits arguments can be \"\u001b[0m\u001b[1;33m\u001b[0m\u001b[1;33m\u001b[0m\u001b[0m\n\u001b[0;32m     67\u001b[0m                 \u001b[1;34m\"provided. Provided size=%s bits=%s.\"\u001b[0m \u001b[1;33m%\u001b[0m \u001b[1;33m(\u001b[0m\u001b[0msize\u001b[0m\u001b[1;33m,\u001b[0m \u001b[0mbits\u001b[0m\u001b[1;33m)\u001b[0m\u001b[1;33m\u001b[0m\u001b[1;33m\u001b[0m\u001b[0m\n",
      "\u001b[1;31mCircuitError\u001b[0m: 'Exactly one of the size or bits arguments can be provided. Provided size=None bits=None.'"
     ]
    }
   ],
   "source": [
    "# VQE\n",
    "\n",
    "#op = Operator(qc)\n",
    "op = Operator(result)\n",
    "#backend = BasicAer.get_backend(\"statevector_simulator\")\n",
    "ansatz = EfficientSU2(num_qubits=4, reps=1, entanglement=\"linear\", insert_barriers=True)\n",
    "optimizer = SPSA(maxiter=100)\n",
    "np.random.seed(5)  # fix seed for reproducibility\n",
    "initial_point = np.random.random(ansatz.num_parameters)\n",
    "#op = Operator(final_U(1, eigen, phases))\n",
    "#exact_solution = NumPyEigensolver(operator).run()\n",
    "vqe = VQE(ansatz=ansatz, optimizer=optimizer, initial_point=initial_point, gradient=None, expectation=None, include_custom=False, max_evals_grouped=1024, callback=None, quantum_instance=QasmSimulatorPy())\n",
    "#result = vqe.get_optimal_cost(initial_point=None, ansatz=None, cost_fn=op, optimizer=None, gradient_fn=None)\n",
    "#vqe_result = np.real(vqe.run(QuantumInstance(backend)))\n",
    "min_distance = vqe.compute_minimum_eigenvalue(operator = op, aux_operators = None)\n",
    "print(_)"
   ]
  },
  {
   "cell_type": "code",
   "execution_count": null,
   "id": "5c3d631d",
   "metadata": {},
   "outputs": [],
   "source": []
  },
  {
   "cell_type": "code",
   "execution_count": null,
   "id": "fa9f21d9",
   "metadata": {},
   "outputs": [],
   "source": []
  },
  {
   "cell_type": "code",
   "execution_count": null,
   "id": "83477481",
   "metadata": {},
   "outputs": [],
   "source": []
  }
 ],
 "metadata": {
  "kernelspec": {
   "display_name": "Python 3 (ipykernel)",
   "language": "python",
   "name": "python3"
  },
  "language_info": {
   "codemirror_mode": {
    "name": "ipython",
    "version": 3
   },
   "file_extension": ".py",
   "mimetype": "text/x-python",
   "name": "python",
   "nbconvert_exporter": "python",
   "pygments_lexer": "ipython3",
   "version": "3.9.7"
  }
 },
 "nbformat": 4,
 "nbformat_minor": 5
}
